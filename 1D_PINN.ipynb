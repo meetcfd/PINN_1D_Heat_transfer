{
  "nbformat": 4,
  "nbformat_minor": 0,
  "metadata": {
    "colab": {
      "provenance": [],
      "collapsed_sections": [],
      "authorship_tag": "ABX9TyPkn/SAFWR5GcixNd4b6qe0",
      "include_colab_link": true
    },
    "kernelspec": {
      "name": "python3",
      "display_name": "Python 3"
    },
    "language_info": {
      "name": "python"
    },
    "accelerator": "TPU"
  },
  "cells": [
    {
      "cell_type": "markdown",
      "metadata": {
        "id": "view-in-github",
        "colab_type": "text"
      },
      "source": [
        "<a href=\"https://colab.research.google.com/github/meetcfd/PINN_1D_Heat_transfer/blob/main/1D_PINN.ipynb\" target=\"_parent\"><img src=\"https://colab.research.google.com/assets/colab-badge.svg\" alt=\"Open In Colab\"/></a>"
      ]
    },
    {
      "cell_type": "code",
      "execution_count": null,
      "metadata": {
        "id": "Dj8yKg0qq01f"
      },
      "outputs": [],
      "source": [
        "import tensorflow as tf\n",
        "import numpy as np\n",
        "import matplotlib.pyplot as  plt\n",
        "import pandas as pd\n",
        "import sympy as sp\n",
        "from scipy.sparse import diags\n",
        "\n",
        "from tensorflow import keras\n",
        "from tensorflow.keras import Model, layers\n",
        "from tensorflow.keras.callbacks import LearningRateScheduler\n",
        "from keras.utils.vis_utils import plot_model"
      ]
    },
    {
      "cell_type": "markdown",
      "source": [
        "# PDE: du/dt - d2u/dx2 = 0\n",
        "# IC: u(x,0) = sin(x)\n",
        "# BC: u(-pi,t) = u(pi,t) = 0\n",
        "# x = (-pi,pi) ; t = (0,1)"
      ],
      "metadata": {
        "id": "JSMn5TWvV84m"
      }
    },
    {
      "cell_type": "markdown",
      "source": [
        "## Initial Conditions\n"
      ],
      "metadata": {
        "id": "3_eBx1p6Nz-Z"
      }
    },
    {
      "cell_type": "code",
      "source": [
        "X = tf.linspace(-np.pi, np.pi, 200)\n",
        "t = tf.zeros(X.shape)\n",
        "y = tf.math.sin(X)\n",
        "\n",
        "sample_num = 100 \n",
        "t_sim = tf.linspace(0,1,sample_num)\n",
        "t_sim = tf.cast(t_sim, tf.float32)"
      ],
      "metadata": {
        "id": "oJCUlMjpq2fG"
      },
      "execution_count": null,
      "outputs": []
    },
    {
      "cell_type": "markdown",
      "source": [
        "## Interior (Collocation) Points"
      ],
      "metadata": {
        "id": "Tb2nWBIgOfPx"
      }
    },
    {
      "cell_type": "code",
      "source": [
        "def rid_gen(seed, X, sample_num): # randomly sampling the space/time domain\n",
        "  tf.random.set_seed(seed)\n",
        "  sample_num = sample_num\n",
        "  idxs = tf.range(2, tf.shape(X)[0]-1)\n",
        "  ridxs = tf.random.shuffle(idxs)[:sample_num]\n",
        "  return tf.gather(X, ridxs)\n",
        "\n",
        "# 500 collocation points sampled from (-pi to pi)\n",
        "X_int1 = rid_gen(42,X,sample_num)\n",
        "X_int2 = rid_gen(69,X,sample_num)\n",
        "X_int3 = rid_gen(17,X,sample_num)\n",
        "X_int4 = rid_gen(7,X,sample_num)\n",
        "X_int5 = rid_gen(999,X,sample_num)\n",
        "\n",
        "X_int_list = [X_int1, X_int2, X_int3, X_int4, X_int5]\n",
        "X_new = tf.concat(X_int_list,axis=0)\n",
        "\n",
        "# simulation time for 0 to 1 sec and concat it for collocation points\n",
        "t_new_list = [t_sim, t_sim, t_sim, t_sim, t_sim]\n",
        "t_new = tf.concat(t_new_list,axis=0)\n",
        "cc = tf.stack((X_new, t_new), axis=1)"
      ],
      "metadata": {
        "id": "hxBiEbABq4ss"
      },
      "execution_count": null,
      "outputs": []
    },
    {
      "cell_type": "code",
      "source": [
        "X_new.shape, t_new.shape"
      ],
      "metadata": {
        "colab": {
          "base_uri": "https://localhost:8080/"
        },
        "id": "onNVylVwovdK",
        "outputId": "8e25e0fe-4dad-4d1e-eb10-8331a7f84513"
      },
      "execution_count": null,
      "outputs": [
        {
          "output_type": "execute_result",
          "data": {
            "text/plain": [
              "(TensorShape([500]), TensorShape([500]))"
            ]
          },
          "metadata": {},
          "execution_count": 4
        }
      ]
    },
    {
      "cell_type": "markdown",
      "source": [
        "## Boundary Conditions"
      ],
      "metadata": {
        "id": "1Doq8K_5P6iY"
      }
    },
    {
      "cell_type": "code",
      "source": [
        "X_bc = tf.concat([X[0] * tf.ones(int(X.shape[0]/4)), X[-1] * tf.ones(int(X.shape[0]/4))],axis=0) \n",
        "# 100 boundary points along with randomly sampled time points from (0, 1)\n",
        "\n",
        "bc_num_sample = 50\n",
        "t_bc1 = rid_gen(1234, t_sim, bc_num_sample)\n",
        "t_bc2 = rid_gen(4321, t_sim, bc_num_sample)\n",
        "t_bc = tf.concat([t_bc1,t_bc2],axis=0)\n",
        "bc = tf.stack((X_bc, t_bc), axis=1)"
      ],
      "metadata": {
        "id": "ih-6pG_hkA3y"
      },
      "execution_count": null,
      "outputs": []
    },
    {
      "cell_type": "code",
      "source": [
        "X_bc.shape, t_bc.shape"
      ],
      "metadata": {
        "colab": {
          "base_uri": "https://localhost:8080/"
        },
        "id": "LYCajURA7twu",
        "outputId": "bb6c2edd-157b-40dd-9ea7-2bfd087b399c"
      },
      "execution_count": null,
      "outputs": [
        {
          "output_type": "execute_result",
          "data": {
            "text/plain": [
              "(TensorShape([100]), TensorShape([100]))"
            ]
          },
          "metadata": {},
          "execution_count": 6
        }
      ]
    },
    {
      "cell_type": "markdown",
      "source": [
        "## Training Data "
      ],
      "metadata": {
        "id": "8kEIB8ihP-5n"
      }
    },
    {
      "cell_type": "code",
      "source": [
        "training_data = tf.stack([X, t], axis=1)"
      ],
      "metadata": {
        "id": "wp-TrmAIrDVc"
      },
      "execution_count": null,
      "outputs": []
    },
    {
      "cell_type": "code",
      "source": [
        "# Visualizing the space-time domain\n",
        "plt.figure(figsize=(10,6))\n",
        "plt.scatter(training_data[:,1].numpy(), training_data[:,0].numpy(),c='red',alpha=0.5);\n",
        "plt.scatter(cc[:,1].numpy(), cc[:,0].numpy(),c='green');\n",
        "plt.scatter(bc[:,1].numpy(), bc[:,0].numpy(),c='blue');\n",
        "plt.xlabel(\"time\")\n",
        "plt.ylabel(\"space\")"
      ],
      "metadata": {
        "colab": {
          "base_uri": "https://localhost:8080/",
          "height": 200
        },
        "id": "gJ1tuAYtrKbF",
        "outputId": "65497166-1015-4201-ecc4-0358da6b09d2"
      },
      "execution_count": null,
      "outputs": [
        {
          "output_type": "execute_result",
          "data": {
            "text/plain": [
              "Text(0, 0.5, 'space')"
            ]
          },
          "metadata": {},
          "execution_count": 8
        },
        {
          "output_type": "display_data",
          "data": {
            "text/plain": [
              "<Figure size 720x432 with 1 Axes>"
            ],
            "image/png": "[encoded data removed]"
          },
          "metadata": {
            "needs_background": "light"
          }
        }
      ]
    },
    {
      "cell_type": "markdown",
      "source": [
        "## PINN using Model subclassing "
      ],
      "metadata": {
        "id": "1wwEawrWQGvg"
      }
    },
    {
      "cell_type": "code",
      "source": [
        "class MyModel(Model):\n",
        "    # using 3 dense layers for (n1, n2, 1)\n",
        "    def __init__(self,cc,bc,num_channels):\n",
        "        super(MyModel,self).__init__()\n",
        "        self.dense = layers.Dense(num_channels[0])\n",
        "        self.dense2 = layers.Dense(num_channels[1])    \n",
        "        self.dense3 = layers.Dense(1)\n",
        "        self.X_cc = cc[:,0]\n",
        "        self.t_cc = cc[:,1]\n",
        "        self.X_bc = bc[:,0]\n",
        "        self.t_bc = bc[:,1]\n",
        "\n",
        "    # functional form of the neural network\n",
        "    def call(self, input_tensor):\n",
        "        x = self.dense(input_tensor)\n",
        "        x = tf.nn.silu(x)\n",
        "        x = self.dense2(x)\n",
        "        x = tf.nn.silu(x)\n",
        "        return self.dense3(x)\n",
        "\n",
        "    # Just for printing out model.summary (see the next cell)\n",
        "    def model(self, input):\n",
        "        X = tf.stack([input[:,0],input[:,1]], axis=1)\n",
        "        x = layers.Input(shape=(X.shape))\n",
        "        return Model(inputs=[x], outputs=self.call(x))\n",
        "\n",
        "    # PDE using auto diff \n",
        "    @tf.function\n",
        "    def f_model(self):\n",
        "\n",
        "        with tf.GradientTape(persistent= True) as tape:\n",
        "            tape.watch(self.X_cc)\n",
        "            tape.watch(self.t_cc)\n",
        "\n",
        "            X = tf.stack([self.X_cc,self.t_cc], axis=1)\n",
        "\n",
        "            u = self.call(X)\n",
        "\n",
        "            df_dx = tape.gradient(u,self.X_cc)\n",
        "        \n",
        "        d2f_dx2 = tape.gradient(df_dx,self.X_cc)\n",
        "\n",
        "        df_dt = tape.gradient(u,self.t_cc)\n",
        "\n",
        "        pde = (df_dt - d2f_dx2)  # collocation points\n",
        "\n",
        "        del tape\n",
        "\n",
        "        return pde\n",
        "\n",
        "    # PDE loss (MSE of pde at collocation points (red points)) from 200 to 700 points\n",
        "    @tf.function    \n",
        "    def loss_pde(self,y,y_pred):\n",
        "\n",
        "            pde = self.f_model()\n",
        "            pdel = tf.reduce_mean(tf.square(pde))\n",
        "            return pdel\n",
        "\n",
        "    # BC loss (MSE of boundary conditions at boundary points (blue points)) the last 100 points of training data\n",
        "    @tf.function        \n",
        "    def loss_bc(self,y,y_pred):\n",
        "\n",
        "            X = tf.stack([self.X_bc,self.t_bc], axis=1)\n",
        "            pred = self.call(X)\n",
        "            bcl = tf.reduce_mean(tf.square(pred))\n",
        "            return bcl\n",
        "\n",
        "    # IC loss (MSE of initial conditions at inital points (green points)) the first 200 points of training data\n",
        "    @tf.function        \n",
        "    def loss_ic(self,y,y_pred):\n",
        "      \n",
        "            icl =  tf.reduce_mean((tf.square(tf.math.subtract(y_pred , y))))\n",
        "            return icl\n",
        "\n",
        "    # Total loss (Summing the MSE losses)\n",
        "    @tf.function    \n",
        "    def total_loss(self,y,y_pred):\n",
        "\n",
        "            # pde = model.f_model()\n",
        "            pdel = self.loss_pde(y,y_pred)\n",
        "            icl =  self.loss_ic(y,y_pred)\n",
        "            bcl =  self.loss_bc(y,y_pred)\n",
        "            return pdel + icl + bcl"
      ],
      "metadata": {
        "id": "mz7zA0MlrMd8"
      },
      "execution_count": null,
      "outputs": []
    },
    {
      "cell_type": "markdown",
      "source": [
        "## Initializing the model with 5, 5 layers"
      ],
      "metadata": {
        "id": "OYZLcjI0SQIn"
      }
    },
    {
      "cell_type": "code",
      "source": [
        "tf.random.set_seed(42)\n",
        "model = MyModel(cc,bc,[5,5])\n",
        "model.model(training_data).summary()"
      ],
      "metadata": {
        "id": "Zsh3bTM2rPJO",
        "colab": {
          "base_uri": "https://localhost:8080/"
        },
        "outputId": "d27db2ad-798c-46d1-f9db-0796f49b5e61"
      },
      "execution_count": null,
      "outputs": [
        {
          "output_type": "stream",
          "name": "stdout",
          "text": [
            "Model: \"model\"\n",
            "_________________________________________________________________\n",
            " Layer (type)                Output Shape              Param #   \n",
            "=================================================================\n",
            " input_1 (InputLayer)        [(None, 200, 2)]          0         \n",
            "                                                                 \n",
            " dense (Dense)               (None, 200, 5)            15        \n",
            "                                                                 \n",
            " tf.nn.silu (TFOpLambda)     (None, 200, 5)            0         \n",
            "                                                                 \n",
            " dense_1 (Dense)             (None, 200, 5)            30        \n",
            "                                                                 \n",
            " tf.nn.silu_1 (TFOpLambda)   (None, 200, 5)            0         \n",
            "                                                                 \n",
            " dense_2 (Dense)             (None, 200, 1)            6         \n",
            "                                                                 \n",
            "=================================================================\n",
            "Total params: 51\n",
            "Trainable params: 51\n",
            "Non-trainable params: 0\n",
            "_________________________________________________________________\n"
          ]
        }
      ]
    },
    {
      "cell_type": "markdown",
      "source": [
        "## Compiling and Fitting the model "
      ],
      "metadata": {
        "id": "3jYaUriOSjKu"
      }
    },
    {
      "cell_type": "code",
      "source": [
        "model.compile(loss= model.total_loss,\n",
        "            optimizer= keras.optimizers.Adam(learning_rate=1e-3)\n",
        "            ,metrics=[model.loss_ic, model.loss_pde, model.loss_bc])\n",
        "\n",
        "# batch size =  size of the training data because how it is structured\n",
        "hist = model.fit(training_data,y,epochs=1000,batch_size=32,verbose=0)"
      ],
      "metadata": {
        "id": "C6S8OwoZrQ4V",
        "colab": {
          "base_uri": "https://localhost:8080/"
        },
        "outputId": "6adb9f42-fba3-4952-adbf-dc44573d49ff"
      },
      "execution_count": null,
      "outputs": [
        {
          "output_type": "stream",
          "name": "stderr",
          "text": [
            "WARNING:tensorflow:Calling GradientTape.gradient on a persistent tape inside its context is significantly less efficient than calling it outside the context (it causes the gradient ops to be recorded on the tape, leading to increased CPU and memory usage). Only call GradientTape.gradient inside the context if you actually want to trace the gradient in order to compute higher order derivatives.\n"
          ]
        }
      ]
    },
    {
      "cell_type": "markdown",
      "source": [
        "## Plotting the losses "
      ],
      "metadata": {
        "id": "FlEgIMDOSpQe"
      }
    },
    {
      "cell_type": "code",
      "source": [
        "plt.figure(figsize=(10,6))\n",
        "plt.plot(hist.history['loss'])\n",
        "plt.plot(hist.history['loss_pde'])\n",
        "plt.plot(hist.history['loss_ic'])\n",
        "plt.plot(hist.history['loss_bc'])\n",
        "plt.title('model loss')\n",
        "plt.ylabel('loss')\n",
        "plt.xlabel('epoch')\n",
        "plt.legend(['total','pde_loss','ic_loss','bc_loss'], loc='upper left')\n",
        "plt.show()"
      ],
      "metadata": {
        "colab": {
          "base_uri": "https://localhost:8080/",
          "height": 189
        },
        "id": "4YbJjosnuyD0",
        "outputId": "9502f1e9-bf8c-474c-9e07-0ff612ead425"
      },
      "execution_count": null,
      "outputs": [
        {
          "output_type": "display_data",
          "data": {
            "text/plain": [
              "<Figure size 720x432 with 1 Axes>"
            ],
            "image/png": "[encoded data removed]"
          },
          "metadata": {
            "needs_background": "light"
          }
        }
      ]
    },
    {
      "cell_type": "markdown",
      "source": [
        "## Plotting the model results at 0.1, 0.2, ... 1"
      ],
      "metadata": {
        "id": "K7biHisCTOGX"
      }
    },
    {
      "cell_type": "code",
      "source": [
        "for i in range(0,100,10): \n",
        "  test_time = t_sim[i]\n",
        "  t = test_time*tf.ones(X.shape)\n",
        "  data_test = tf.stack([X,t],axis=1)\n",
        "  y_pred = model.predict(data_test)\n",
        "  plt.scatter(data_test[:,0], tf.squeeze(y_pred));\n"
      ],
      "metadata": {
        "colab": {
          "base_uri": "https://localhost:8080/",
          "height": 385
        },
        "id": "vkkwhXesrS21",
        "outputId": "5ec56cea-a90f-4492-c9b0-754f0cc58b5e"
      },
      "execution_count": null,
      "outputs": [
        {
          "output_type": "stream",
          "name": "stdout",
          "text": [
            "7/7 [==============================] - 0s 2ms/step\n",
            "7/7 [==============================] - 0s 3ms/step\n",
            "7/7 [==============================] - 0s 2ms/step\n",
            "7/7 [==============================] - 0s 2ms/step\n",
            "7/7 [==============================] - 0s 2ms/step\n",
            "7/7 [==============================] - 0s 2ms/step\n",
            "7/7 [==============================] - 0s 3ms/step\n",
            "7/7 [==============================] - 0s 2ms/step\n",
            "7/7 [==============================] - 0s 2ms/step\n",
            "7/7 [==============================] - 0s 2ms/step\n"
          ]
        },
        {
          "output_type": "display_data",
          "data": {
            "text/plain": [
              "<Figure size 432x288 with 1 Axes>"
            ],
            "image/png": "[encoded data removed]"
          },
          "metadata": {
            "needs_background": "light"
          }
        }
      ]
    },
    {
      "cell_type": "markdown",
      "source": [
        "##  Finite Difference Model 1D Heat , change t_max for checking other solution"
      ],
      "metadata": {
        "id": "-LLV8f64TWZ3"
      }
    },
    {
      "cell_type": "code",
      "source": [
        "dt = 5e-4\n",
        "dy = 5e-2\n",
        "k = 1\n",
        "y_min = -np.pi\n",
        "y_max = np.pi\n",
        "t_max = 0.5\n",
        "T0 = 0\n",
        "\n",
        "def Implicit(dt,dy,t_max,y_max,y_min,k,T0):\n",
        "    s = k*dt/dy**2\n",
        "    y = np.arange(y_min,y_max+dy,dy) \n",
        "    r = int(t_max/dt)\n",
        "    c = len(y)\n",
        "    T = np.zeros([c])\n",
        "    T[:] = np.sin(y)\n",
        "    T[0] = T0\n",
        "    T[-1] = T0\n",
        "    b = T\n",
        "\n",
        "    coeff_mat_diag = (1. + 2*s)*np.ones([c])\n",
        "    coeff_mat_neigh = -s*np.ones([c])\n",
        "    pos = [-1, 0, 1]\n",
        "    data = [coeff_mat_neigh.tolist(), coeff_mat_diag.tolist(), coeff_mat_neigh.tolist()]\n",
        "\n",
        "    coeff_mat = diags(data, pos, [c,c])\n",
        "    coeff_mat = coeff_mat.toarray()\n",
        "\n",
        "    for _ in range(r):\n",
        "        T = np.linalg.solve(coeff_mat, b)\n",
        "        b = T\n",
        "        b[0] = T0\n",
        "        b[-1] = T0\n",
        "        # if _ % r-1 == 0:\n",
        "        #    plt.scatter(np.arange(y_min,y_max+dy,dy),T,alpha=0.3);\n",
        "    return T\n"
      ],
      "metadata": {
        "id": "14_5bAady_uo"
      },
      "execution_count": null,
      "outputs": []
    },
    {
      "cell_type": "markdown",
      "source": [
        "## Difference between the real solution (red) (ground truth) and model solution (blue) @ t = 0.5"
      ],
      "metadata": {
        "id": "6EY5nmlbTb59"
      }
    },
    {
      "cell_type": "code",
      "source": [
        "for i in [0.5]: \n",
        "  test_time = i\n",
        "  t = test_time*tf.ones(X.shape)\n",
        "  data_test = tf.stack([X,t],axis=1)\n",
        "  y_pred = model.predict(data_test)\n",
        "  plt.scatter(data_test[:,0], tf.squeeze(y_pred));\n",
        "\n",
        "T = Implicit(dt,dy,t_max,y_max,y_min,k,T0)\n",
        "plt.scatter(np.arange(y_min,y_max+dy,dy),T,alpha=0.3);"
      ],
      "metadata": {
        "colab": {
          "base_uri": "https://localhost:8080/",
          "height": 231
        },
        "id": "A8CwQFUhPAv_",
        "outputId": "4e8c8d6e-efa8-4c80-fd82-e5625273a7b4"
      },
      "execution_count": null,
      "outputs": [
        {
          "output_type": "stream",
          "name": "stdout",
          "text": [
            "7/7 [==============================] - 0s 3ms/step\n"
          ]
        },
        {
          "output_type": "display_data",
          "data": {
            "text/plain": [
              "<Figure size 432x288 with 1 Axes>"
            ],
            "image/png": "[encoded data removed]"
          },
          "metadata": {
            "needs_background": "light"
          }
        }
      ]
    }
  ]
}